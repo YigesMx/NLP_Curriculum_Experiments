{
 "cells": [
  {
   "cell_type": "code",
   "execution_count": 1,
   "metadata": {},
   "outputs": [],
   "source": [
    "from data.data import data_process, data_map_process\n",
    "from model.hmm_model import HMM"
   ]
  },
  {
   "cell_type": "code",
   "execution_count": 2,
   "metadata": {},
   "outputs": [
    {
     "name": "stdout",
     "output_type": "stream",
     "text": [
      "Length of train data: 10748\n",
      "Length of valid data: 1343\n"
     ]
    }
   ],
   "source": [
    "train_data = data_process('./data/train.jsonl')\n",
    "valid_data = data_process('./data/val.jsonl')\n",
    "print('Length of train data:', len(train_data))\n",
    "print('Length of valid data:', len(valid_data))"
   ]
  },
  {
   "cell_type": "code",
   "execution_count": 3,
   "metadata": {},
   "outputs": [
    {
     "name": "stdout",
     "output_type": "stream",
     "text": [
      "start data map processing...\n",
      "classes:  ['name', 'company', 'game', 'organization', 'movie', 'address', 'position', 'government', 'scene', 'book']\n",
      "number of classes:  10\n",
      "\n",
      "start Training：\n"
     ]
    },
    {
     "name": "stderr",
     "output_type": "stream",
     "text": [
      "100%|██████████| 10748/10748 [00:00<00:00, 48391.11it/s]"
     ]
    },
    {
     "name": "stdout",
     "output_type": "stream",
     "text": [
      "Training Finished！\n"
     ]
    },
    {
     "name": "stderr",
     "output_type": "stream",
     "text": [
      "\n"
     ]
    }
   ],
   "source": [
    "classes, tag2idx, idx2tag = data_map_process('./data/train.jsonl')\n",
    "model = HMM(tag2idx, idx2tag)\n",
    "model.train(train_data)"
   ]
  },
  {
   "cell_type": "code",
   "execution_count": 4,
   "metadata": {},
   "outputs": [
    {
     "name": "stdout",
     "output_type": "stream",
     "text": [
      "浙B-company | 商I-company | 银I-company | 行I-company | 企I-company | 业I-company | 信I-company | 贷I-company | 部I-company | 叶B-name | 老I-name | 桂I-name | 博I-name | 士O | 则O | 从O | 另O | 一O | 个O | 角O | 度O | 对O | 五O | 道O | 门O | 槛O | 进O | 行O | 了O | 解O | 读O | 。O | 叶B-name | 老I-name | 桂I-name | 认O | 为O | ，O | 对O | 目O | 前O | 国O | 内O | 商B-company | 业I-company | 银I-company | 行I-company | 而O | 言O | ，O | "
     ]
    }
   ],
   "source": [
    "model.predict('浙商银行企业信贷部叶老桂博士则从另一个角度对五道门槛进行了解读。叶老桂认为，对目前国内商业银行而言，')"
   ]
  },
  {
   "cell_type": "code",
   "execution_count": 5,
   "metadata": {},
   "outputs": [],
   "source": [
    "from sklearn import metrics\n",
    "from itertools import chain"
   ]
  },
  {
   "cell_type": "code",
   "execution_count": 6,
   "metadata": {},
   "outputs": [
    {
     "name": "stdout",
     "output_type": "stream",
     "text": [
      "                precision    recall  f1-score   support\n",
      "\n",
      "        B-name       0.67      0.67      0.67       465\n",
      "        I-name       0.53      0.67      0.60      1021\n",
      "     B-company       0.64      0.62      0.63       378\n",
      "     I-company       0.59      0.65      0.62      1315\n",
      "        B-game       0.66      0.79      0.71       295\n",
      "        I-game       0.68      0.77      0.72      1362\n",
      "B-organization       0.62      0.61      0.61       367\n",
      "I-organization       0.57      0.52      0.54      1087\n",
      "       B-movie       0.60      0.61      0.60       151\n",
      "       I-movie       0.66      0.68      0.67       892\n",
      "     B-address       0.51      0.45      0.48       373\n",
      "     I-address       0.59      0.60      0.59      1329\n",
      "    B-position       0.61      0.64      0.62       433\n",
      "    I-position       0.62      0.66      0.64       768\n",
      "  B-government       0.49      0.63      0.55       247\n",
      "  I-government       0.57      0.76      0.65      1068\n",
      "       B-scene       0.50      0.42      0.46       209\n",
      "       I-scene       0.64      0.50      0.57       722\n",
      "        B-book       0.61      0.45      0.52       154\n",
      "        I-book       0.62      0.43      0.51       877\n",
      "\n",
      "     micro avg       0.60      0.63      0.61     13513\n",
      "     macro avg       0.60      0.61      0.60     13513\n",
      "  weighted avg       0.60      0.63      0.61     13513\n",
      "\n"
     ]
    }
   ],
   "source": [
    "y_pred = model.valid(valid_data)\n",
    "y_true = [data[1] for data in valid_data]\n",
    "\n",
    "# 排好标签顺序输入，否则默认按标签出现顺序进行排列\n",
    "sort_labels = [k for k in tag2idx.keys()]\n",
    "\n",
    "y_true = list(chain.from_iterable(y_true))\n",
    "y_pred = list(chain.from_iterable(y_pred))\n",
    "\n",
    "# 打印详细分数报告，包括precision(精确率)，recall(召回率)，f1-score(f1分数)，support(个数)，digits=3代表保留3位小数\n",
    "print(metrics.classification_report(\n",
    "    y_true, y_pred, labels=sort_labels[1:]\n",
    "))"
   ]
  }
 ],
 "metadata": {
  "kernelspec": {
   "display_name": "dlai",
   "language": "python",
   "name": "python3"
  },
  "language_info": {
   "codemirror_mode": {
    "name": "ipython",
    "version": 3
   },
   "file_extension": ".py",
   "mimetype": "text/x-python",
   "name": "python",
   "nbconvert_exporter": "python",
   "pygments_lexer": "ipython3",
   "version": "3.10.13"
  }
 },
 "nbformat": 4,
 "nbformat_minor": 2
}
